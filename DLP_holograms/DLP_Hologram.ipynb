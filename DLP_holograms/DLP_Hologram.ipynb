{
 "metadata": {
  "name": "DLP_Hologram"
 },
 "nbformat": 3,
 "nbformat_minor": 0,
 "worksheets": [
  {
   "cells": [
    {
     "cell_type": "code",
     "collapsed": false,
     "input": [
      "from __future__ import division"
     ],
     "language": "python",
     "metadata": {},
     "outputs": [],
     "prompt_number": 111
    },
    {
     "cell_type": "code",
     "collapsed": false,
     "input": [
      "x_e = 0.063 / 2"
     ],
     "language": "python",
     "metadata": {},
     "outputs": [],
     "prompt_number": 112
    },
    {
     "cell_type": "code",
     "collapsed": false,
     "input": [
      "x_e"
     ],
     "language": "python",
     "metadata": {},
     "outputs": [
      {
       "output_type": "pyout",
       "prompt_number": 113,
       "text": [
        "0.0315"
       ]
      }
     ],
     "prompt_number": 113
    },
    {
     "cell_type": "code",
     "collapsed": false,
     "input": [
      "d = 2"
     ],
     "language": "python",
     "metadata": {},
     "outputs": [],
     "prompt_number": 114
    },
    {
     "cell_type": "code",
     "collapsed": false,
     "input": [
      "theta = radians(10)"
     ],
     "language": "python",
     "metadata": {},
     "outputs": [],
     "prompt_number": 115
    },
    {
     "cell_type": "code",
     "collapsed": false,
     "input": [
      "y_e = .3"
     ],
     "language": "python",
     "metadata": {},
     "outputs": [],
     "prompt_number": 116
    },
    {
     "cell_type": "code",
     "collapsed": false,
     "input": [
      "l_1 = .7"
     ],
     "language": "python",
     "metadata": {},
     "outputs": [],
     "prompt_number": 117
    },
    {
     "cell_type": "code",
     "collapsed": false,
     "input": [
      "l_2 = 0.0254 / 2 # half the width of a DMD chip"
     ],
     "language": "python",
     "metadata": {},
     "outputs": [],
     "prompt_number": 118
    },
    {
     "cell_type": "code",
     "collapsed": false,
     "input": [
      "l_2"
     ],
     "language": "python",
     "metadata": {},
     "outputs": [
      {
       "output_type": "pyout",
       "prompt_number": 119,
       "text": [
        "0.0127"
       ]
      }
     ],
     "prompt_number": 119
    },
    {
     "cell_type": "code",
     "collapsed": false,
     "input": [
      "x_1 = 0"
     ],
     "language": "python",
     "metadata": {},
     "outputs": [],
     "prompt_number": 120
    },
    {
     "cell_type": "code",
     "collapsed": false,
     "input": [
      "x_2 = linspace(-l_2, l_2)"
     ],
     "language": "python",
     "metadata": {},
     "outputs": [],
     "prompt_number": 121
    },
    {
     "cell_type": "code",
     "collapsed": false,
     "input": [
      "x_3_max = y_e * ( ( tan(2*theta) - (x_2 - l_1) / d ) / ( 1 + tan(2*theta) * (x_2 - l_1) / d ) ) + x_2"
     ],
     "language": "python",
     "metadata": {},
     "outputs": [],
     "prompt_number": 122
    },
    {
     "cell_type": "code",
     "collapsed": false,
     "input": [
      "x_3_min = y_e * ( ( tan(2*theta) - (x_2 - (-l_1)) / d ) / ( 1 + tan(2*theta) * (x_2 - (-l_1)) / d ) ) + x_2"
     ],
     "language": "python",
     "metadata": {},
     "outputs": [],
     "prompt_number": 123
    },
    {
     "cell_type": "code",
     "collapsed": false,
     "input": [
      "subplot(211)\n",
      "hold(False)\n",
      "plot(x_2, [x_e]*len(x_2), 'k--', x_2, [-x_e]*len(x_2), 'r--')\n",
      "fill_between(x_2, x_3_min, x_3_max, alpha=0.25, color='b')\n",
      "ylim([-.3, .3])\n",
      "xlabel(\"Horizontal position of pixel on DMD (m)\")\n",
      "ylabel(\"Horizontal position of ray endpoint at eye height\")\n",
      "legend([\"Right eye\", \"Left eye\"], loc=\"best\")\n",
      "title(\"All Mirrors at +10 degrees\")"
     ],
     "language": "python",
     "metadata": {},
     "outputs": [
      {
       "output_type": "pyout",
       "prompt_number": 124,
       "text": [
        "<matplotlib.text.Text at 0x110689550>"
       ]
      }
     ],
     "prompt_number": 124
    },
    {
     "cell_type": "code",
     "collapsed": false,
     "input": [
      "x_3_max_off = y_e * ( ( tan(2*-theta) - (x_2 - l_1) / d ) / ( 1 + tan(2*-theta) * (x_2 - l_1) / d ) ) + x_2"
     ],
     "language": "python",
     "metadata": {},
     "outputs": [],
     "prompt_number": 125
    },
    {
     "cell_type": "code",
     "collapsed": false,
     "input": [
      "x_3_min_off = y_e * ( ( tan(2*-theta) - (x_2 - (-l_1)) / d ) / ( 1 + tan(2*-theta) * (x_2 - (-l_1)) / d ) ) + x_2"
     ],
     "language": "python",
     "metadata": {},
     "outputs": [],
     "prompt_number": 126
    },
    {
     "cell_type": "code",
     "collapsed": false,
     "input": [
      "subplot(212)\n",
      "hold(False)\n",
      "plot(x_2, [x_e]*len(x_2), 'k--', x_2, [-x_e]*len(x_2), 'r--')\n",
      "fill_between(x_2, x_3_min_off, x_3_max_off, alpha=0.25, color='b')\n",
      "ylim([-.3, .3])\n",
      "xlabel(\"Horizontal position of pixel on DMD (m)\")\n",
      "ylabel(\"Horizontal position of ray endpoint at eye height\")\n",
      "legend([\"Right eye\", \"Left eye\"], loc=\"best\")\n",
      "title(\"All Mirrors at -10 degrees\")"
     ],
     "language": "python",
     "metadata": {},
     "outputs": [
      {
       "output_type": "pyout",
       "prompt_number": 127,
       "text": [
        "<matplotlib.text.Text at 0x10753db10>"
       ]
      }
     ],
     "prompt_number": 127
    },
    {
     "cell_type": "code",
     "collapsed": false,
     "input": [],
     "language": "python",
     "metadata": {},
     "outputs": [],
     "prompt_number": 127
    }
   ],
   "metadata": {}
  }
 ]
}