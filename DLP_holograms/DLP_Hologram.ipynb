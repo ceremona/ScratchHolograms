{
 "metadata": {
  "name": "DLP_Hologram"
 },
 "nbformat": 3,
 "nbformat_minor": 0,
 "worksheets": [
  {
   "cells": [
    {
     "cell_type": "code",
     "collapsed": false,
     "input": [
      "from __future__ import division"
     ],
     "language": "python",
     "metadata": {},
     "outputs": [],
     "prompt_number": 48
    },
    {
     "cell_type": "code",
     "collapsed": false,
     "input": [
      "x_e = 0.063 / 2"
     ],
     "language": "python",
     "metadata": {},
     "outputs": [],
     "prompt_number": 49
    },
    {
     "cell_type": "code",
     "collapsed": false,
     "input": [
      "d = 2"
     ],
     "language": "python",
     "metadata": {},
     "outputs": [],
     "prompt_number": 50
    },
    {
     "cell_type": "code",
     "collapsed": false,
     "input": [
      "theta = radians(10)"
     ],
     "language": "python",
     "metadata": {},
     "outputs": [],
     "prompt_number": 51
    },
    {
     "cell_type": "code",
     "collapsed": false,
     "input": [
      "y_e = 1"
     ],
     "language": "python",
     "metadata": {},
     "outputs": [],
     "prompt_number": 52
    },
    {
     "cell_type": "code",
     "collapsed": false,
     "input": [
      "l_1 = .7"
     ],
     "language": "python",
     "metadata": {},
     "outputs": [],
     "prompt_number": 53
    },
    {
     "cell_type": "code",
     "collapsed": false,
     "input": [
      "l_2 = 0.0254 / 2 # half the width of a DMD chip"
     ],
     "language": "python",
     "metadata": {},
     "outputs": [],
     "prompt_number": 54
    },
    {
     "cell_type": "code",
     "collapsed": false,
     "input": [
      "x_1 = 0"
     ],
     "language": "python",
     "metadata": {},
     "outputs": [],
     "prompt_number": 55
    },
    {
     "cell_type": "code",
     "collapsed": false,
     "input": [
      "x_2 = linspace(-l_2, l_2)"
     ],
     "language": "python",
     "metadata": {},
     "outputs": [],
     "prompt_number": 56
    },
    {
     "cell_type": "code",
     "collapsed": false,
     "input": [
      "x_3_max = y_e * ( ( tan(2*theta) - (x_2 - l_1) / d ) / ( 1 + tan(2*theta) * (x_2 - l_1) / d ) ) + x_2"
     ],
     "language": "python",
     "metadata": {},
     "outputs": [],
     "prompt_number": 57
    },
    {
     "cell_type": "code",
     "collapsed": false,
     "input": [
      "x_3_min = y_e * ( ( tan(2*theta) - (x_2 - (-l_1)) / d ) / ( 1 + tan(2*theta) * (x_2 - (-l_1)) / d ) ) + x_2"
     ],
     "language": "python",
     "metadata": {},
     "outputs": [],
     "prompt_number": 58
    },
    {
     "cell_type": "code",
     "collapsed": false,
     "input": [
      "subplot(211)\n",
      "hold(False)\n",
      "plot(x_2, [x_e]*len(x_2), 'k--', x_2, [-x_e]*len(x_2), 'r--')\n",
      "fill_between(x_2, x_3_min, x_3_max, alpha=0.25, color='b')\n",
      "ylim([-1, 1])\n",
      "xlabel(\"Horizontal position of pixel on DMD (m)\")\n",
      "ylabel(\"Horizontal position of ray endpoint at eye height\")\n",
      "legend([\"Right eye\", \"Left eye\"], loc=\"best\")\n",
      "title(\"All Pixels Set to 'Right'\")"
     ],
     "language": "python",
     "metadata": {},
     "outputs": [
      {
       "output_type": "pyout",
       "prompt_number": 75,
       "text": [
        "<matplotlib.text.Text at 0x107503fd0>"
       ]
      }
     ],
     "prompt_number": 75
    },
    {
     "cell_type": "code",
     "collapsed": false,
     "input": [
      "x_3_max_off = y_e * ( ( tan(2*-theta) - (x_2 - l_1) / d ) / ( 1 + tan(2*-theta) * (x_2 - l_1) / d ) ) + x_2"
     ],
     "language": "python",
     "metadata": {},
     "outputs": [],
     "prompt_number": 76
    },
    {
     "cell_type": "code",
     "collapsed": false,
     "input": [
      "x_3_min_off = y_e * ( ( tan(2*-theta) - (x_2 - (-l_1)) / d ) / ( 1 + tan(2*-theta) * (x_2 - (-l_1)) / d ) ) + x_2"
     ],
     "language": "python",
     "metadata": {},
     "outputs": [],
     "prompt_number": 77
    },
    {
     "cell_type": "code",
     "collapsed": false,
     "input": [
      "subplot(212)\n",
      "hold(False)\n",
      "plot(x_2, [x_e]*len(x_2), 'k--', x_2, [-x_e]*len(x_2), 'r--')\n",
      "fill_between(x_2, x_3_min_off, x_3_max_off, alpha=0.25, color='b')\n",
      "ylim([-1, 1])\n",
      "xlabel(\"Horizontal position of pixel on DMD (m)\")\n",
      "ylabel(\"Horizontal position of ray endpoint at eye height\")\n",
      "legend([\"Right eye\", \"Left eye\"], loc=\"best\")\n",
      "title(\"All Pixels Set to 'Left'\")"
     ],
     "language": "python",
     "metadata": {},
     "outputs": [
      {
       "output_type": "pyout",
       "prompt_number": 78,
       "text": [
        "<matplotlib.text.Text at 0x1075856d0>"
       ]
      }
     ],
     "prompt_number": 78
    },
    {
     "cell_type": "code",
     "collapsed": false,
     "input": [],
     "language": "python",
     "metadata": {},
     "outputs": [],
     "prompt_number": 62
    }
   ],
   "metadata": {}
  }
 ]
}